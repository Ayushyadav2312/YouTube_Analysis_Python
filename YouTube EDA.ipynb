{
 "cells": [
  {
   "cell_type": "code",
   "execution_count": null,
   "id": "436e22b0-d12e-47a8-a149-410ced584eef",
   "metadata": {},
   "outputs": [],
   "source": []
  },
  {
   "cell_type": "code",
   "execution_count": 1,
   "id": "c33b5c42-4f31-4f5b-bc2e-bf4605f02547",
   "metadata": {},
   "outputs": [],
   "source": [
    "## 1.. Read csv data and load data  ! "
   ]
  },
  {
   "cell_type": "code",
   "execution_count": 2,
   "id": "b5393d5b-a5d4-4715-98b4-ea1040ea44d3",
   "metadata": {},
   "outputs": [],
   "source": [
    "import pandas as pd\n",
    "import numpy as np\n",
    "import matplotlib.pyplot as plt\n",
    "import seaborn as sns\n",
    "import warnings\n",
    "warnings.filterwarnings('ignore')"
   ]
  },
  {
   "cell_type": "code",
   "execution_count": 3,
   "id": "3579f96e-4222-4291-aa9a-1013d7001ca0",
   "metadata": {},
   "outputs": [
    {
     "ename": "FileNotFoundError",
     "evalue": "[Errno 2] No such file or directory: 'UScomments.csv'",
     "output_type": "error",
     "traceback": [
      "\u001b[1;31m---------------------------------------------------------------------------\u001b[0m",
      "\u001b[1;31mFileNotFoundError\u001b[0m                         Traceback (most recent call last)",
      "Cell \u001b[1;32mIn[3], line 1\u001b[0m\n\u001b[1;32m----> 1\u001b[0m df_comnts \u001b[38;5;241m=\u001b[39m \u001b[43mpd\u001b[49m\u001b[38;5;241;43m.\u001b[39;49m\u001b[43mread_csv\u001b[49m\u001b[43m(\u001b[49m\u001b[38;5;124;43m'\u001b[39;49m\u001b[38;5;124;43mUScomments.csv\u001b[39;49m\u001b[38;5;124;43m'\u001b[39;49m\u001b[43m,\u001b[49m\u001b[43mon_bad_lines\u001b[49m\u001b[38;5;241;43m=\u001b[39;49m\u001b[38;5;124;43m'\u001b[39;49m\u001b[38;5;124;43mskip\u001b[39;49m\u001b[38;5;124;43m'\u001b[39;49m\u001b[43m)\u001b[49m\n",
      "File \u001b[1;32m~\\AppData\\Local\\Programs\\Python\\Python311\\Lib\\site-packages\\pandas\\io\\parsers\\readers.py:948\u001b[0m, in \u001b[0;36mread_csv\u001b[1;34m(filepath_or_buffer, sep, delimiter, header, names, index_col, usecols, dtype, engine, converters, true_values, false_values, skipinitialspace, skiprows, skipfooter, nrows, na_values, keep_default_na, na_filter, verbose, skip_blank_lines, parse_dates, infer_datetime_format, keep_date_col, date_parser, date_format, dayfirst, cache_dates, iterator, chunksize, compression, thousands, decimal, lineterminator, quotechar, quoting, doublequote, escapechar, comment, encoding, encoding_errors, dialect, on_bad_lines, delim_whitespace, low_memory, memory_map, float_precision, storage_options, dtype_backend)\u001b[0m\n\u001b[0;32m    935\u001b[0m kwds_defaults \u001b[38;5;241m=\u001b[39m _refine_defaults_read(\n\u001b[0;32m    936\u001b[0m     dialect,\n\u001b[0;32m    937\u001b[0m     delimiter,\n\u001b[1;32m   (...)\u001b[0m\n\u001b[0;32m    944\u001b[0m     dtype_backend\u001b[38;5;241m=\u001b[39mdtype_backend,\n\u001b[0;32m    945\u001b[0m )\n\u001b[0;32m    946\u001b[0m kwds\u001b[38;5;241m.\u001b[39mupdate(kwds_defaults)\n\u001b[1;32m--> 948\u001b[0m \u001b[38;5;28;01mreturn\u001b[39;00m \u001b[43m_read\u001b[49m\u001b[43m(\u001b[49m\u001b[43mfilepath_or_buffer\u001b[49m\u001b[43m,\u001b[49m\u001b[43m \u001b[49m\u001b[43mkwds\u001b[49m\u001b[43m)\u001b[49m\n",
      "File \u001b[1;32m~\\AppData\\Local\\Programs\\Python\\Python311\\Lib\\site-packages\\pandas\\io\\parsers\\readers.py:611\u001b[0m, in \u001b[0;36m_read\u001b[1;34m(filepath_or_buffer, kwds)\u001b[0m\n\u001b[0;32m    608\u001b[0m _validate_names(kwds\u001b[38;5;241m.\u001b[39mget(\u001b[38;5;124m\"\u001b[39m\u001b[38;5;124mnames\u001b[39m\u001b[38;5;124m\"\u001b[39m, \u001b[38;5;28;01mNone\u001b[39;00m))\n\u001b[0;32m    610\u001b[0m \u001b[38;5;66;03m# Create the parser.\u001b[39;00m\n\u001b[1;32m--> 611\u001b[0m parser \u001b[38;5;241m=\u001b[39m \u001b[43mTextFileReader\u001b[49m\u001b[43m(\u001b[49m\u001b[43mfilepath_or_buffer\u001b[49m\u001b[43m,\u001b[49m\u001b[43m \u001b[49m\u001b[38;5;241;43m*\u001b[39;49m\u001b[38;5;241;43m*\u001b[39;49m\u001b[43mkwds\u001b[49m\u001b[43m)\u001b[49m\n\u001b[0;32m    613\u001b[0m \u001b[38;5;28;01mif\u001b[39;00m chunksize \u001b[38;5;129;01mor\u001b[39;00m iterator:\n\u001b[0;32m    614\u001b[0m     \u001b[38;5;28;01mreturn\u001b[39;00m parser\n",
      "File \u001b[1;32m~\\AppData\\Local\\Programs\\Python\\Python311\\Lib\\site-packages\\pandas\\io\\parsers\\readers.py:1448\u001b[0m, in \u001b[0;36mTextFileReader.__init__\u001b[1;34m(self, f, engine, **kwds)\u001b[0m\n\u001b[0;32m   1445\u001b[0m     \u001b[38;5;28mself\u001b[39m\u001b[38;5;241m.\u001b[39moptions[\u001b[38;5;124m\"\u001b[39m\u001b[38;5;124mhas_index_names\u001b[39m\u001b[38;5;124m\"\u001b[39m] \u001b[38;5;241m=\u001b[39m kwds[\u001b[38;5;124m\"\u001b[39m\u001b[38;5;124mhas_index_names\u001b[39m\u001b[38;5;124m\"\u001b[39m]\n\u001b[0;32m   1447\u001b[0m \u001b[38;5;28mself\u001b[39m\u001b[38;5;241m.\u001b[39mhandles: IOHandles \u001b[38;5;241m|\u001b[39m \u001b[38;5;28;01mNone\u001b[39;00m \u001b[38;5;241m=\u001b[39m \u001b[38;5;28;01mNone\u001b[39;00m\n\u001b[1;32m-> 1448\u001b[0m \u001b[38;5;28mself\u001b[39m\u001b[38;5;241m.\u001b[39m_engine \u001b[38;5;241m=\u001b[39m \u001b[38;5;28;43mself\u001b[39;49m\u001b[38;5;241;43m.\u001b[39;49m\u001b[43m_make_engine\u001b[49m\u001b[43m(\u001b[49m\u001b[43mf\u001b[49m\u001b[43m,\u001b[49m\u001b[43m \u001b[49m\u001b[38;5;28;43mself\u001b[39;49m\u001b[38;5;241;43m.\u001b[39;49m\u001b[43mengine\u001b[49m\u001b[43m)\u001b[49m\n",
      "File \u001b[1;32m~\\AppData\\Local\\Programs\\Python\\Python311\\Lib\\site-packages\\pandas\\io\\parsers\\readers.py:1705\u001b[0m, in \u001b[0;36mTextFileReader._make_engine\u001b[1;34m(self, f, engine)\u001b[0m\n\u001b[0;32m   1703\u001b[0m     \u001b[38;5;28;01mif\u001b[39;00m \u001b[38;5;124m\"\u001b[39m\u001b[38;5;124mb\u001b[39m\u001b[38;5;124m\"\u001b[39m \u001b[38;5;129;01mnot\u001b[39;00m \u001b[38;5;129;01min\u001b[39;00m mode:\n\u001b[0;32m   1704\u001b[0m         mode \u001b[38;5;241m+\u001b[39m\u001b[38;5;241m=\u001b[39m \u001b[38;5;124m\"\u001b[39m\u001b[38;5;124mb\u001b[39m\u001b[38;5;124m\"\u001b[39m\n\u001b[1;32m-> 1705\u001b[0m \u001b[38;5;28mself\u001b[39m\u001b[38;5;241m.\u001b[39mhandles \u001b[38;5;241m=\u001b[39m \u001b[43mget_handle\u001b[49m\u001b[43m(\u001b[49m\n\u001b[0;32m   1706\u001b[0m \u001b[43m    \u001b[49m\u001b[43mf\u001b[49m\u001b[43m,\u001b[49m\n\u001b[0;32m   1707\u001b[0m \u001b[43m    \u001b[49m\u001b[43mmode\u001b[49m\u001b[43m,\u001b[49m\n\u001b[0;32m   1708\u001b[0m \u001b[43m    \u001b[49m\u001b[43mencoding\u001b[49m\u001b[38;5;241;43m=\u001b[39;49m\u001b[38;5;28;43mself\u001b[39;49m\u001b[38;5;241;43m.\u001b[39;49m\u001b[43moptions\u001b[49m\u001b[38;5;241;43m.\u001b[39;49m\u001b[43mget\u001b[49m\u001b[43m(\u001b[49m\u001b[38;5;124;43m\"\u001b[39;49m\u001b[38;5;124;43mencoding\u001b[39;49m\u001b[38;5;124;43m\"\u001b[39;49m\u001b[43m,\u001b[49m\u001b[43m \u001b[49m\u001b[38;5;28;43;01mNone\u001b[39;49;00m\u001b[43m)\u001b[49m\u001b[43m,\u001b[49m\n\u001b[0;32m   1709\u001b[0m \u001b[43m    \u001b[49m\u001b[43mcompression\u001b[49m\u001b[38;5;241;43m=\u001b[39;49m\u001b[38;5;28;43mself\u001b[39;49m\u001b[38;5;241;43m.\u001b[39;49m\u001b[43moptions\u001b[49m\u001b[38;5;241;43m.\u001b[39;49m\u001b[43mget\u001b[49m\u001b[43m(\u001b[49m\u001b[38;5;124;43m\"\u001b[39;49m\u001b[38;5;124;43mcompression\u001b[39;49m\u001b[38;5;124;43m\"\u001b[39;49m\u001b[43m,\u001b[49m\u001b[43m \u001b[49m\u001b[38;5;28;43;01mNone\u001b[39;49;00m\u001b[43m)\u001b[49m\u001b[43m,\u001b[49m\n\u001b[0;32m   1710\u001b[0m \u001b[43m    \u001b[49m\u001b[43mmemory_map\u001b[49m\u001b[38;5;241;43m=\u001b[39;49m\u001b[38;5;28;43mself\u001b[39;49m\u001b[38;5;241;43m.\u001b[39;49m\u001b[43moptions\u001b[49m\u001b[38;5;241;43m.\u001b[39;49m\u001b[43mget\u001b[49m\u001b[43m(\u001b[49m\u001b[38;5;124;43m\"\u001b[39;49m\u001b[38;5;124;43mmemory_map\u001b[39;49m\u001b[38;5;124;43m\"\u001b[39;49m\u001b[43m,\u001b[49m\u001b[43m \u001b[49m\u001b[38;5;28;43;01mFalse\u001b[39;49;00m\u001b[43m)\u001b[49m\u001b[43m,\u001b[49m\n\u001b[0;32m   1711\u001b[0m \u001b[43m    \u001b[49m\u001b[43mis_text\u001b[49m\u001b[38;5;241;43m=\u001b[39;49m\u001b[43mis_text\u001b[49m\u001b[43m,\u001b[49m\n\u001b[0;32m   1712\u001b[0m \u001b[43m    \u001b[49m\u001b[43merrors\u001b[49m\u001b[38;5;241;43m=\u001b[39;49m\u001b[38;5;28;43mself\u001b[39;49m\u001b[38;5;241;43m.\u001b[39;49m\u001b[43moptions\u001b[49m\u001b[38;5;241;43m.\u001b[39;49m\u001b[43mget\u001b[49m\u001b[43m(\u001b[49m\u001b[38;5;124;43m\"\u001b[39;49m\u001b[38;5;124;43mencoding_errors\u001b[39;49m\u001b[38;5;124;43m\"\u001b[39;49m\u001b[43m,\u001b[49m\u001b[43m \u001b[49m\u001b[38;5;124;43m\"\u001b[39;49m\u001b[38;5;124;43mstrict\u001b[39;49m\u001b[38;5;124;43m\"\u001b[39;49m\u001b[43m)\u001b[49m\u001b[43m,\u001b[49m\n\u001b[0;32m   1713\u001b[0m \u001b[43m    \u001b[49m\u001b[43mstorage_options\u001b[49m\u001b[38;5;241;43m=\u001b[39;49m\u001b[38;5;28;43mself\u001b[39;49m\u001b[38;5;241;43m.\u001b[39;49m\u001b[43moptions\u001b[49m\u001b[38;5;241;43m.\u001b[39;49m\u001b[43mget\u001b[49m\u001b[43m(\u001b[49m\u001b[38;5;124;43m\"\u001b[39;49m\u001b[38;5;124;43mstorage_options\u001b[39;49m\u001b[38;5;124;43m\"\u001b[39;49m\u001b[43m,\u001b[49m\u001b[43m \u001b[49m\u001b[38;5;28;43;01mNone\u001b[39;49;00m\u001b[43m)\u001b[49m\u001b[43m,\u001b[49m\n\u001b[0;32m   1714\u001b[0m \u001b[43m\u001b[49m\u001b[43m)\u001b[49m\n\u001b[0;32m   1715\u001b[0m \u001b[38;5;28;01massert\u001b[39;00m \u001b[38;5;28mself\u001b[39m\u001b[38;5;241m.\u001b[39mhandles \u001b[38;5;129;01mis\u001b[39;00m \u001b[38;5;129;01mnot\u001b[39;00m \u001b[38;5;28;01mNone\u001b[39;00m\n\u001b[0;32m   1716\u001b[0m f \u001b[38;5;241m=\u001b[39m \u001b[38;5;28mself\u001b[39m\u001b[38;5;241m.\u001b[39mhandles\u001b[38;5;241m.\u001b[39mhandle\n",
      "File \u001b[1;32m~\\AppData\\Local\\Programs\\Python\\Python311\\Lib\\site-packages\\pandas\\io\\common.py:863\u001b[0m, in \u001b[0;36mget_handle\u001b[1;34m(path_or_buf, mode, encoding, compression, memory_map, is_text, errors, storage_options)\u001b[0m\n\u001b[0;32m    858\u001b[0m \u001b[38;5;28;01melif\u001b[39;00m \u001b[38;5;28misinstance\u001b[39m(handle, \u001b[38;5;28mstr\u001b[39m):\n\u001b[0;32m    859\u001b[0m     \u001b[38;5;66;03m# Check whether the filename is to be opened in binary mode.\u001b[39;00m\n\u001b[0;32m    860\u001b[0m     \u001b[38;5;66;03m# Binary mode does not support 'encoding' and 'newline'.\u001b[39;00m\n\u001b[0;32m    861\u001b[0m     \u001b[38;5;28;01mif\u001b[39;00m ioargs\u001b[38;5;241m.\u001b[39mencoding \u001b[38;5;129;01mand\u001b[39;00m \u001b[38;5;124m\"\u001b[39m\u001b[38;5;124mb\u001b[39m\u001b[38;5;124m\"\u001b[39m \u001b[38;5;129;01mnot\u001b[39;00m \u001b[38;5;129;01min\u001b[39;00m ioargs\u001b[38;5;241m.\u001b[39mmode:\n\u001b[0;32m    862\u001b[0m         \u001b[38;5;66;03m# Encoding\u001b[39;00m\n\u001b[1;32m--> 863\u001b[0m         handle \u001b[38;5;241m=\u001b[39m \u001b[38;5;28;43mopen\u001b[39;49m\u001b[43m(\u001b[49m\n\u001b[0;32m    864\u001b[0m \u001b[43m            \u001b[49m\u001b[43mhandle\u001b[49m\u001b[43m,\u001b[49m\n\u001b[0;32m    865\u001b[0m \u001b[43m            \u001b[49m\u001b[43mioargs\u001b[49m\u001b[38;5;241;43m.\u001b[39;49m\u001b[43mmode\u001b[49m\u001b[43m,\u001b[49m\n\u001b[0;32m    866\u001b[0m \u001b[43m            \u001b[49m\u001b[43mencoding\u001b[49m\u001b[38;5;241;43m=\u001b[39;49m\u001b[43mioargs\u001b[49m\u001b[38;5;241;43m.\u001b[39;49m\u001b[43mencoding\u001b[49m\u001b[43m,\u001b[49m\n\u001b[0;32m    867\u001b[0m \u001b[43m            \u001b[49m\u001b[43merrors\u001b[49m\u001b[38;5;241;43m=\u001b[39;49m\u001b[43merrors\u001b[49m\u001b[43m,\u001b[49m\n\u001b[0;32m    868\u001b[0m \u001b[43m            \u001b[49m\u001b[43mnewline\u001b[49m\u001b[38;5;241;43m=\u001b[39;49m\u001b[38;5;124;43m\"\u001b[39;49m\u001b[38;5;124;43m\"\u001b[39;49m\u001b[43m,\u001b[49m\n\u001b[0;32m    869\u001b[0m \u001b[43m        \u001b[49m\u001b[43m)\u001b[49m\n\u001b[0;32m    870\u001b[0m     \u001b[38;5;28;01melse\u001b[39;00m:\n\u001b[0;32m    871\u001b[0m         \u001b[38;5;66;03m# Binary mode\u001b[39;00m\n\u001b[0;32m    872\u001b[0m         handle \u001b[38;5;241m=\u001b[39m \u001b[38;5;28mopen\u001b[39m(handle, ioargs\u001b[38;5;241m.\u001b[39mmode)\n",
      "\u001b[1;31mFileNotFoundError\u001b[0m: [Errno 2] No such file or directory: 'UScomments.csv'"
     ]
    }
   ],
   "source": [
    "df_comnts = pd.read_csv('UScomments.csv',on_bad_lines='skip')"
   ]
  },
  {
   "cell_type": "code",
   "execution_count": null,
   "id": "b14ef660-77fa-461d-bf83-1fbfb4a23bff",
   "metadata": {},
   "outputs": [],
   "source": [
    "df_comnts.head()"
   ]
  },
  {
   "cell_type": "code",
   "execution_count": null,
   "id": "02be4dd2-92bd-4404-b009-544f7b78b6a7",
   "metadata": {},
   "outputs": [],
   "source": [
    "df_comnts.isnull().sum()"
   ]
  },
  {
   "cell_type": "code",
   "execution_count": null,
   "id": "e09ff1c9-e83f-4e1c-9f87-5fe9738b47e6",
   "metadata": {},
   "outputs": [],
   "source": [
    "df_comnts.dropna(inplace=True)"
   ]
  },
  {
   "cell_type": "code",
   "execution_count": null,
   "id": "e7c9b5f6-f2cc-4312-a198-4d4a17f6ef3f",
   "metadata": {},
   "outputs": [],
   "source": [
    "## 2.. Perform Sentiment Analysis\n",
    "    "
   ]
  },
  {
   "cell_type": "code",
   "execution_count": null,
   "id": "93d67787-01a1-4829-881c-7d0cb266850f",
   "metadata": {},
   "outputs": [],
   "source": [
    "from textblob import TextBlob"
   ]
  },
  {
   "cell_type": "code",
   "execution_count": null,
   "id": "42657bf0-63fb-4525-850d-0ce2501931f5",
   "metadata": {},
   "outputs": [],
   "source": [
    "TextBlob(\"Logan Paul it's yo big day ‼️‼️‼️\").sentiment.polarity"
   ]
  },
  {
   "cell_type": "code",
   "execution_count": null,
   "id": "ff39ee03-8df9-420c-bd99-50a1f9ab431f",
   "metadata": {},
   "outputs": [],
   "source": [
    "polarity =[]\n",
    "\n",
    "try:\n",
    "    for comments in df_comnts['comment_text']:\n",
    "        polarity.append(TextBlob(comments).sentiment.polarity)\n",
    "except:\n",
    "    polarity.append(0)\n",
    "\n",
    "df_comnts['polarity'] = polarity\n",
    "    "
   ]
  },
  {
   "cell_type": "code",
   "execution_count": null,
   "id": "f18817db-916d-47d0-a7e4-23ba85391695",
   "metadata": {},
   "outputs": [],
   "source": [
    "df_comnts.head()"
   ]
  },
  {
   "cell_type": "code",
   "execution_count": null,
   "id": "7ca44df5-da24-4366-aabf-d021855ac265",
   "metadata": {},
   "outputs": [],
   "source": [
    "## 3..  Wordcloud Analysis"
   ]
  },
  {
   "cell_type": "code",
   "execution_count": null,
   "id": "25601d04-59f5-45e3-a5f8-d722aeb841ed",
   "metadata": {},
   "outputs": [],
   "source": [
    "flt1 = (df_comnts['polarity'] == 1)\n"
   ]
  },
  {
   "cell_type": "code",
   "execution_count": null,
   "id": "3703130f-8c03-472f-9321-ce37d35e410f",
   "metadata": {},
   "outputs": [],
   "source": [
    "comments_positive=df_comnts[flt1]"
   ]
  },
  {
   "cell_type": "code",
   "execution_count": null,
   "id": "8de469f7-0702-41f4-81e6-9d883ef990a7",
   "metadata": {},
   "outputs": [],
   "source": [
    "comments_positive"
   ]
  },
  {
   "cell_type": "code",
   "execution_count": null,
   "id": "407767d5-96f7-4563-8d37-3e8e27c1affd",
   "metadata": {},
   "outputs": [],
   "source": [
    "flt2 = df_comnts['polarity']== -1 \n",
    "comments_negative =df_comnts[flt2]"
   ]
  },
  {
   "cell_type": "code",
   "execution_count": null,
   "id": "074f05f5-5e4b-4c42-a968-486a7ce8e856",
   "metadata": {},
   "outputs": [],
   "source": [
    "comments_negative"
   ]
  },
  {
   "cell_type": "code",
   "execution_count": null,
   "id": "41654ff0-2b23-4539-9a77-252096aebf9e",
   "metadata": {},
   "outputs": [],
   "source": [
    "from wordcloud import WordCloud,STOPWORDS"
   ]
  },
  {
   "cell_type": "code",
   "execution_count": null,
   "id": "23b8bc79-2693-44c0-90ea-87bca1e2093d",
   "metadata": {},
   "outputs": [],
   "source": [
    "set(STOPWORDS).head(5)"
   ]
  },
  {
   "cell_type": "code",
   "execution_count": null,
   "id": "0e9de658-6528-4413-9f8d-e1e35b629325",
   "metadata": {},
   "outputs": [],
   "source": [
    "WordCloud(stopwords=set(STOPWORDS))"
   ]
  },
  {
   "cell_type": "code",
   "execution_count": null,
   "id": "b0c8bef4-e551-4d95-ba79-aebbe65cbd1a",
   "metadata": {},
   "outputs": [],
   "source": [
    "total_comments_positive =' '.join(comments_positive['comment_text'])"
   ]
  },
  {
   "cell_type": "code",
   "execution_count": null,
   "id": "972e9c33-62c5-43bd-96b1-e6c053ab3416",
   "metadata": {},
   "outputs": [],
   "source": [
    "total_comments_negative =' '.join(comments_negative['comment_text'])"
   ]
  },
  {
   "cell_type": "code",
   "execution_count": null,
   "id": "75857993-9237-471f-96cb-a127d187678c",
   "metadata": {},
   "outputs": [],
   "source": [
    "positive_wordcloud = WordCloud(stopwords=set(STOPWORDS)).generate(total_comments_positive)"
   ]
  },
  {
   "cell_type": "code",
   "execution_count": null,
   "id": "5aedf190-6c14-43fe-a9ad-e5ccbd89a6cc",
   "metadata": {},
   "outputs": [],
   "source": [
    "plt.imshow(positive_wordcloud)\n",
    "plt.show()"
   ]
  },
  {
   "cell_type": "code",
   "execution_count": null,
   "id": "a6fdf599-2ad9-42e6-be8c-84e339cce19c",
   "metadata": {},
   "outputs": [],
   "source": [
    "### Conclusion-->> positive Users are emphasizing more on best , awesome , perfect , amazing , look , happy  etc.."
   ]
  },
  {
   "cell_type": "code",
   "execution_count": null,
   "id": "b463c2e2-876c-44e6-a55b-574480548532",
   "metadata": {},
   "outputs": [],
   "source": [
    "negative_wordcloud = WordCloud(stopwords=set(STOPWORDS)).generate(total_comments_negative)"
   ]
  },
  {
   "cell_type": "code",
   "execution_count": null,
   "id": "c0985487-91d1-4769-80f4-3f18a10a4592",
   "metadata": {},
   "outputs": [],
   "source": [
    "plt.imshow(negative_wordcloud)\n",
    "plt.show()"
   ]
  },
  {
   "cell_type": "code",
   "execution_count": null,
   "id": "11c9290a-932c-44be-91e8-ca68bdeb3e62",
   "metadata": {},
   "outputs": [],
   "source": [
    "### Conclusion-->> Negative Users are emphasizing more on Terrible , worst ,horrible ,boring , disgusting etc.."
   ]
  },
  {
   "cell_type": "code",
   "execution_count": null,
   "id": "3ab22676-2ac1-4b8b-be3b-10de0c9a114b",
   "metadata": {},
   "outputs": [],
   "source": [
    "## 4.. Emoji's Analysis"
   ]
  },
  {
   "cell_type": "code",
   "execution_count": null,
   "id": "4922507f-a4c4-4464-92d5-5e7238df2e9d",
   "metadata": {},
   "outputs": [],
   "source": [
    "!pip install emoji==2.2.0\n",
    "import emoji"
   ]
  },
  {
   "cell_type": "code",
   "execution_count": null,
   "id": "c8ace6d3-2360-4a86-b28b-2609b6f8783d",
   "metadata": {},
   "outputs": [],
   "source": [
    "emoji_list =[]\n",
    "\n",
    "for comments in df_comnts['comment_text']:\n",
    "    for char in comments:\n",
    "        if char in emoji.EMOJI_DATA:\n",
    "            emoji_list.append(char)\n"
   ]
  },
  {
   "cell_type": "code",
   "execution_count": null,
   "id": "33ea1c69-3ae2-4cbb-8b03-e1f5affd7f56",
   "metadata": {},
   "outputs": [],
   "source": [
    "from collections import Counter\n",
    "\n",
    "Counter(emoji_list).most_common(10)"
   ]
  },
  {
   "cell_type": "code",
   "execution_count": null,
   "id": "e1dd3941-f834-4df6-a8b3-d952291530d5",
   "metadata": {},
   "outputs": [],
   "source": [
    "emojis =[]\n",
    "for i in range(10):\n",
    "    emojis.append(Counter(emoji_list).most_common(10)[i][0])"
   ]
  },
  {
   "cell_type": "code",
   "execution_count": null,
   "id": "febdc442-6dd4-4ccc-837a-fe12f4d21992",
   "metadata": {},
   "outputs": [],
   "source": [
    "freq =[]\n",
    "for i in range(10):\n",
    "    freq.append(Counter(emoji_list).most_common(10)[i][1])"
   ]
  },
  {
   "cell_type": "code",
   "execution_count": null,
   "id": "400026e7-701e-4095-80f8-7d5a09687d1c",
   "metadata": {},
   "outputs": [],
   "source": [
    "!pip install jupyterlab-plotly\n",
    "\n",
    "import plotly.graph_objs as go\n",
    "from plotly.offline import iplot\n",
    "\n",
    "\n",
    "trace = go.Bar(x=emojis,y=freq)\n",
    "iplot([trace])"
   ]
  },
  {
   "cell_type": "code",
   "execution_count": null,
   "id": "123f066d-b7a8-49db-8c2f-1bf364df222e",
   "metadata": {},
   "outputs": [],
   "source": [
    "##5.. Collect Entire data of Youtube !"
   ]
  },
  {
   "cell_type": "code",
   "execution_count": null,
   "id": "133caa32-a1dd-471d-a453-63d35b678864",
   "metadata": {},
   "outputs": [],
   "source": [
    "import os"
   ]
  },
  {
   "cell_type": "code",
   "execution_count": null,
   "id": "095adf82-7fe2-40ee-b7a0-0bd4ecc72f6f",
   "metadata": {},
   "outputs": [],
   "source": [
    "files  = os.listdir(r'C:\\Users\\adiha\\OneDrive\\Desktop\\jupyrt NT\\additional_data')"
   ]
  },
  {
   "cell_type": "code",
   "execution_count": null,
   "id": "45769365-683f-4425-b721-792796f62e2e",
   "metadata": {},
   "outputs": [],
   "source": [
    "files"
   ]
  },
  {
   "cell_type": "code",
   "execution_count": null,
   "id": "319271a6-6cdd-4fc2-a71f-484aaed80bf0",
   "metadata": {},
   "outputs": [],
   "source": [
    "files_csv =[]\n",
    "files_json =[]\n",
    "for file in files:\n",
    "    if file.endswith('.csv'):\n",
    "        files_csv.append(file)\n",
    "    else:\n",
    "        files_json.append(file)"
   ]
  },
  {
   "cell_type": "code",
   "execution_count": null,
   "id": "1ab8a822-1809-4ad0-9197-be749cb1419e",
   "metadata": {},
   "outputs": [],
   "source": [
    "files_csv"
   ]
  },
  {
   "cell_type": "code",
   "execution_count": null,
   "id": "9ed1309a-7756-42b0-b902-1923eef579ec",
   "metadata": {},
   "outputs": [],
   "source": [
    "files_json"
   ]
  },
  {
   "cell_type": "code",
   "execution_count": null,
   "id": "317fbefc-5dfb-4248-8193-d533a9f04fc2",
   "metadata": {},
   "outputs": [],
   "source": [
    "full_df =pd.DataFrame()"
   ]
  },
  {
   "cell_type": "code",
   "execution_count": null,
   "id": "bf721a34-4afb-4676-a135-67e1fc72caa4",
   "metadata": {},
   "outputs": [],
   "source": [
    "path = r'C:\\Users\\adiha\\OneDrive\\Desktop\\jupyrt NT\\additional_data'\n",
    "\n",
    "for files in files_csv:\n",
    "    current_df = pd.read_csv(path+'/'+files,encoding = 'iso-8859-1')\n",
    "    \n",
    "    full_df = pd.concat([full_df,current_df],  ignore_index=True)\n",
    "    "
   ]
  },
  {
   "cell_type": "code",
   "execution_count": null,
   "id": "d5f5356f-132f-4a4c-9cc5-bfb611915d6f",
   "metadata": {},
   "outputs": [],
   "source": [
    "full_df.shape"
   ]
  },
  {
   "cell_type": "code",
   "execution_count": null,
   "id": "dc7018f7-79f4-45c1-af16-bb168631fcaf",
   "metadata": {},
   "outputs": [],
   "source": [
    "full_df.duplicated().sum()"
   ]
  },
  {
   "cell_type": "code",
   "execution_count": null,
   "id": "b8078acd-6900-4594-a9f8-d43786a8ad56",
   "metadata": {},
   "outputs": [],
   "source": [
    "full_df = full_df.drop_duplicates()"
   ]
  },
  {
   "cell_type": "code",
   "execution_count": null,
   "id": "2735a262-13b6-4f0b-8b13-166dcbb9578d",
   "metadata": {},
   "outputs": [],
   "source": [
    "full_df.to_csv(r'C:\\Users\\adiha\\OneDrive\\Desktop\\jupyrt NT/YouTube_full_df_project.csv',index = False)"
   ]
  },
  {
   "cell_type": "code",
   "execution_count": null,
   "id": "45d553d9-1ba8-49db-bbd5-26844aefb5e0",
   "metadata": {},
   "outputs": [],
   "source": [
    "## 7.. Which Category has the maximum likes ?"
   ]
  },
  {
   "cell_type": "code",
   "execution_count": null,
   "id": "aae58293-27e9-423b-a350-397c22f409de",
   "metadata": {},
   "outputs": [],
   "source": [
    "json_df =pd.read_json(r'C:\\Users\\adiha\\OneDrive\\Desktop\\jupyrt NT\\additional_data/US_category_id.json')"
   ]
  },
  {
   "cell_type": "code",
   "execution_count": null,
   "id": "e919c628-e238-4ec9-95f9-e6a37310968d",
   "metadata": {},
   "outputs": [],
   "source": [
    "json_df"
   ]
  },
  {
   "cell_type": "code",
   "execution_count": null,
   "id": "be741670-2d3d-4b2a-a42a-fb86f567d689",
   "metadata": {},
   "outputs": [],
   "source": [
    "json_df['items']"
   ]
  },
  {
   "cell_type": "code",
   "execution_count": null,
   "id": "c23263e0-459d-420a-bd15-64540699e6bb",
   "metadata": {},
   "outputs": [],
   "source": []
  },
  {
   "cell_type": "code",
   "execution_count": null,
   "id": "af31e26c-3f78-41d5-9619-011b0f024be4",
   "metadata": {},
   "outputs": [],
   "source": []
  },
  {
   "cell_type": "code",
   "execution_count": null,
   "id": "1bb510c9-7a86-4102-b085-f64bd922b29e",
   "metadata": {},
   "outputs": [],
   "source": [
    "json_df['items'][0]"
   ]
  },
  {
   "cell_type": "code",
   "execution_count": null,
   "id": "1720451d-9da6-4ada-8474-4632b026f6dd",
   "metadata": {},
   "outputs": [],
   "source": [
    "category_dict={}\n",
    "\n",
    "for item in json_df['items'].values:\n",
    "    category_dict[int(item['id'])] = item['snippet']['title']\n",
    "\n",
    "category_dict\n",
    "    "
   ]
  },
  {
   "cell_type": "code",
   "execution_count": null,
   "id": "93001334-a1cb-434a-8d8c-e419c498fc95",
   "metadata": {},
   "outputs": [],
   "source": [
    "full_df['category_name']=full_df['category_id'].map(category_dict)"
   ]
  },
  {
   "cell_type": "code",
   "execution_count": null,
   "id": "1a514cc9-1640-4c8e-85c0-32b60f252667",
   "metadata": {},
   "outputs": [],
   "source": [
    "plt.figure(figsize = (12,8))\n",
    "sns.boxplot(x='category_name',y='likes',data= full_df)\n",
    "plt.xticks(rotation='vertical')\n",
    "plt.show()"
   ]
  },
  {
   "cell_type": "code",
   "execution_count": null,
   "id": "151c1d41-449e-4d60-ab48-5d97cdcb776b",
   "metadata": {},
   "outputs": [],
   "source": []
  },
  {
   "cell_type": "code",
   "execution_count": null,
   "id": "f92ae8ac-1a03-4699-9800-31be57695c07",
   "metadata": {},
   "outputs": [],
   "source": [
    "## 8.. whether audience is engaged or not"
   ]
  },
  {
   "cell_type": "code",
   "execution_count": null,
   "id": "9fcaaad2-0d9e-44a5-bede-f80f3ca7597a",
   "metadata": {},
   "outputs": [],
   "source": [
    "full_df['like_rate']=(full_df['likes']/full_df['views'])*100\n",
    "full_df['dislike_rate']=(full_df['dislikes']/full_df['views'])*100\n",
    "full_df['comment_rate']=(full_df['comment_count']/full_df['views'])*100"
   ]
  },
  {
   "cell_type": "code",
   "execution_count": null,
   "id": "a2fc0398-3784-4c41-8d7e-260d1b56f4ed",
   "metadata": {},
   "outputs": [],
   "source": [
    "plt.figure(figsize = (8,8))\n",
    "sns.boxplot(x='category_name',y='like_rate',data= full_df)\n",
    "plt.xticks(rotation='vertical')\n",
    "plt.show()"
   ]
  },
  {
   "cell_type": "code",
   "execution_count": null,
   "id": "37215a78-fa0c-426e-833a-b3bcf59b8949",
   "metadata": {},
   "outputs": [],
   "source": [
    "sns.regplot(x='views',y='likes',data=full_df)\n",
    "plt.show()"
   ]
  },
  {
   "cell_type": "code",
   "execution_count": null,
   "id": "2ac2df34-f4c4-4a50-b294-977331eaee0f",
   "metadata": {},
   "outputs": [],
   "source": [
    "full_df[['views','likes','comment_count']].corr()"
   ]
  },
  {
   "cell_type": "code",
   "execution_count": null,
   "id": "0296b354-56c3-49ca-a5d4-3ced2403803e",
   "metadata": {},
   "outputs": [],
   "source": [
    "sns.heatmap(full_df[['views','likes','comment_count']].corr(),annot=True)"
   ]
  },
  {
   "cell_type": "code",
   "execution_count": null,
   "id": "53de0f3e-a7d1-47d0-bdbe-1558ccc13f8c",
   "metadata": {},
   "outputs": [],
   "source": [
    "count_df=full_df['channel_title'].value_counts().reset_index()\n",
    "count_df = count_df.head(20)"
   ]
  },
  {
   "cell_type": "code",
   "execution_count": null,
   "id": "df1a4746-730f-49fd-8669-ccf8e9ef3dab",
   "metadata": {},
   "outputs": [],
   "source": [
    "## 9.. Which channels have the largest number of trending videos?"
   ]
  },
  {
   "cell_type": "code",
   "execution_count": null,
   "id": "fc56c990-fddc-41e8-b77d-fc9492df2417",
   "metadata": {},
   "outputs": [],
   "source": [
    "sns.barplot(x='count',y='channel_title',data=count_df,palette='coolwarm_r')\n",
    "plt.xlabel('No. of videos')\n",
    "plt.show()"
   ]
  },
  {
   "cell_type": "code",
   "execution_count": null,
   "id": "450b8f2c-8ca6-4e7f-9e3c-b4227f24de4f",
   "metadata": {},
   "outputs": [],
   "source": [
    "## 10.. Does Punctuations in title and tags have any relation with views, likes, dislikes comments?"
   ]
  },
  {
   "cell_type": "code",
   "execution_count": null,
   "id": "dc7cb398-39f5-4e73-88ee-5dfb602efaae",
   "metadata": {},
   "outputs": [],
   "source": [
    "import string\n",
    "string.punctuation"
   ]
  },
  {
   "cell_type": "code",
   "execution_count": null,
   "id": "40f5f616-8422-4f0e-8f89-8f8ad103d8d5",
   "metadata": {},
   "outputs": [],
   "source": [
    "punctuation_count=[]\n",
    "\n",
    "for str in full_df['title']:\n",
    "    count = 0\n",
    "    for char in str:\n",
    "        if char in string.punctuation:\n",
    "            count += 1\n",
    "    punctuation_count.append(count)\n",
    "\n",
    "full_df['No. of punctuations']=punctuation_count"
   ]
  },
  {
   "cell_type": "code",
   "execution_count": null,
   "id": "377e5171-c003-42e3-88f6-48c96caf51ec",
   "metadata": {},
   "outputs": [],
   "source": [
    "full_df.head()\n",
    "full_df.drop(columns='no of punctuation',axis=1)"
   ]
  },
  {
   "cell_type": "code",
   "execution_count": null,
   "id": "70b962be-2be8-4b56-9d59-9a867d481659",
   "metadata": {},
   "outputs": [],
   "source": [
    "plt.figure(figsize=(12,8))\n",
    "sns.boxplot(x='No. of punctuations',y='views',data=full_df)\n",
    "plt.show()"
   ]
  },
  {
   "cell_type": "code",
   "execution_count": null,
   "id": "c2cdd59e-7845-4fc7-b67f-a165e22cd022",
   "metadata": {},
   "outputs": [],
   "source": []
  }
 ],
 "metadata": {
  "kernelspec": {
   "display_name": "Python 3 (ipykernel)",
   "language": "python",
   "name": "python3"
  },
  "language_info": {
   "codemirror_mode": {
    "name": "ipython",
    "version": 3
   },
   "file_extension": ".py",
   "mimetype": "text/x-python",
   "name": "python",
   "nbconvert_exporter": "python",
   "pygments_lexer": "ipython3",
   "version": "3.11.5"
  },
  "widgets": {
   "application/vnd.jupyter.widget-state+json": {
    "state": {},
    "version_major": 2,
    "version_minor": 0
   }
  }
 },
 "nbformat": 4,
 "nbformat_minor": 5
}
